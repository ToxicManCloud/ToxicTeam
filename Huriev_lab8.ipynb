{
 "cells": [
  {
   "cell_type": "code",
   "execution_count": 6,
   "id": "02e4c6d7-2c41-40df-818e-a415f1eeeac1",
   "metadata": {},
   "outputs": [
    {
     "name": "stdout",
     "output_type": "stream",
     "text": [
      "Топологічне сортування: [1, 3, 2, 4, 6, 7, 8, 9, 5]\n"
     ]
    }
   ],
   "source": [
    "from collections import defaultdict\n",
    "\n",
    "class Graph:\n",
    "    def __init__(self):\n",
    "        self.graph = defaultdict(list)\n",
    "\n",
    "    def add_edge(self, u, v):\n",
    "        self.graph[u].append(v)\n",
    "\n",
    "    def dfs_util(self, v, visited, stack):\n",
    "        visited.add(v)\n",
    "\n",
    "        for i in self.graph[v]:\n",
    "            if i not in visited:\n",
    "                self.dfs_util(i, visited, stack)\n",
    "\n",
    "        stack.append(v)\n",
    "\n",
    "    def topological_sort(self):\n",
    "        visited = set()\n",
    "        stack = []\n",
    "\n",
    "        keys = list(self.graph.keys())  # список ключів графу\n",
    "\n",
    "        for v in keys:\n",
    "            if v not in visited:\n",
    "                self.dfs_util(v, visited, stack)\n",
    "\n",
    "        return stack[::-1]\n",
    "\n",
    "# Задано ациклічний граф\n",
    "edges = [(1,2),(1,3),(2,4),(3,5),(4,5),(4,6),(6,7),(7,8),(8,9)]\n",
    "num_nodes = 9\n",
    "\n",
    "# Створюємо граф та додаємо ребра\n",
    "graph = Graph()\n",
    "for edge in edges:\n",
    "    graph.add_edge(edge[0], edge[1])\n",
    "\n",
    "# Виконуємо топологічне сортування\n",
    "topological_order = graph.topological_sort()\n",
    "\n",
    "print(\"Топологічне сортування:\", topological_order)\n"
   ]
  },
  {
   "cell_type": "code",
   "execution_count": 7,
   "id": "6e741fdb-fadd-4f83-a1ac-5041561d91a9",
   "metadata": {},
   "outputs": [
    {
     "data": {
      "image/png": "[encoded data removed]",
      "text/plain": [
       "<Figure size 640x480 with 1 Axes>"
      ]
     },
     "metadata": {},
     "output_type": "display_data"
    }
   ],
   "source": [
    "import networkx as nx\n",
    "import matplotlib.pyplot as plt\n",
    "\n",
    "# Задано ациклічний граф\n",
    "edges = [(1,2),(1,3),(2,4),(3,5),(4,5),(4,6),(6,7),(7,8),(8,9)]\n",
    "num_nodes = 9\n",
    "\n",
    "# Створюємо граф та додаємо ребра\n",
    "G = nx.DiGraph()\n",
    "G.add_edges_from(edges)\n",
    "\n",
    "# Візуалізуємо граф\n",
    "pos = nx.spring_layout(G)  # позиції вершин\n",
    "\n",
    "nx.draw(G, pos, with_labels=True, node_size=1000, node_color=\"skyblue\", font_size=10, font_weight=\"bold\", arrowsize=20)\n",
    "plt.title(\"Граф\")\n",
    "plt.show()\n"
   ]
  },
  {
   "cell_type": "code",
   "execution_count": 8,
   "id": "0f6fb4ac-601a-4801-8fae-3e980a409559",
   "metadata": {},
   "outputs": [
    {
     "name": "stdout",
     "output_type": "stream",
     "text": [
      "Топологічне сортування за допомогою алгоритму Белмана-Форда: [1, 2, 3, 4, 5, 6, 7, 8, 9]\n"
     ]
    }
   ],
   "source": [
    "from collections import defaultdict\n",
    "\n",
    "class Graph:\n",
    "    def __init__(self):\n",
    "        self.graph = defaultdict(list)\n",
    "\n",
    "    def add_edge(self, u, v):\n",
    "        self.graph[u].append(v)\n",
    "\n",
    "    def topological_sort(self):\n",
    "        indegree = defaultdict(int)\n",
    "        for u in self.graph:\n",
    "            for v in self.graph[u]:\n",
    "                indegree[v] += 1\n",
    "\n",
    "        queue = [u for u in self.graph if indegree[u] == 0]\n",
    "        result = []\n",
    "\n",
    "        while queue:\n",
    "            u = queue.pop(0)\n",
    "            result.append(u)\n",
    "            for v in self.graph[u]:\n",
    "                indegree[v] -= 1\n",
    "                if indegree[v] == 0:\n",
    "                    queue.append(v)\n",
    "\n",
    "        return result\n",
    "\n",
    "# Задано ациклічний граф\n",
    "edges = [(1,2),(1,3),(2,4),(3,5),(4,5),(4,6),(6,7),(7,8),(8,9)]\n",
    "num_nodes = 9\n",
    "\n",
    "# Створюємо граф та додаємо ребра\n",
    "graph = Graph()\n",
    "for edge in edges:\n",
    "    graph.add_edge(edge[0], edge[1])\n",
    "\n",
    "# Виконуємо топологічне сортування за допомогою алгоритму Белмана-Форда\n",
    "topological_order = graph.topological_sort()\n",
    "\n",
    "print(\"Топологічне сортування за допомогою алгоритму Белмана-Форда:\", topological_order)\n"
   ]
  },
  {
   "cell_type": "code",
   "execution_count": 10,
   "id": "cd97c3b6-7bdf-48be-9f14-810e81020017",
   "metadata": {},
   "outputs": [
    {
     "name": "stdout",
     "output_type": "stream",
     "text": [
      "Топологічне сортування за допомогою DFS: [1, 3, 2, 4, 6, 7, 8, 9, 5]\n"
     ]
    }
   ],
   "source": [
    "from collections import defaultdict\n",
    "\n",
    "class Graph:\n",
    "    def __init__(self):\n",
    "        self.graph = defaultdict(list)\n",
    "\n",
    "    def add_edge(self, u, v):\n",
    "        self.graph[u].append(v)\n",
    "\n",
    "    def dfs_util(self, v, visited, stack):\n",
    "        visited.add(v)\n",
    "\n",
    "        for i in self.graph[v]:\n",
    "            if i not in visited:\n",
    "                self.dfs_util(i, visited, stack)\n",
    "\n",
    "        stack.append(v)\n",
    "\n",
    "    def topological_sort(self):\n",
    "        visited = set()\n",
    "        stack = []\n",
    "\n",
    "        keys = list(self.graph.keys())  # список ключів графу\n",
    "\n",
    "        for v in keys:\n",
    "            if v not in visited:\n",
    "                self.dfs_util(v, visited, stack)\n",
    "\n",
    "        return stack[::-1]\n",
    "\n",
    "# Задано ациклічний граф\n",
    "edges = [(1,2),(1,3),(2,4),(3,5),(4,5),(4,6),(6,7),(7,8),(8,9)]\n",
    "num_nodes = 9\n",
    "\n",
    "# Створюємо граф та додаємо ребра\n",
    "graph = Graph()\n",
    "for edge in edges:\n",
    "    graph.add_edge(edge[0], edge[1])\n",
    "\n",
    "# Виконуємо топологічне сортування за допомогою DFS\n",
    "topological_order = graph.topological_sort()\n",
    "\n",
    "print(\"Топологічне сортування за допомогою DFS:\", topological_order)\n"
   ]
  },
  {
   "cell_type": "markdown",
   "id": "b2be3a6e-c4f4-40e1-97ef-5938152b9e65",
   "metadata": {},
   "source": [
    "Контрольні запитання \n",
    "1.Що таке граф у термінах теорії графів? Наведіть приклади реальних ситуацій, де можна застосовувати графи.\r",
    "2.\n",
    "Які головні види графів існують? Наведіть відмінності між орієнтованими і неорієнтованими графами.3.\r\n",
    "Як можна подати граф у пам’яті комп’ютера? Опишіть структури даних, які використовуються для зберігання графів4..\r\n",
    "Як працює алгоритм пошуку в ширину (BFS) на графах? Наведіть приклади ситуацій, де застосовується цей алгорит5.м.\r\n",
    "Що таке алгоритм пошуку в глибину (DFS) на графах? Як він відрізняється від BFS? Надайте приклади задач, де використовується D6.FS.\r\n",
    "Опишіть алгоритм Дейкстри для пошуку найкоротшого шляху в графі. Які умови повинні виконуватися для успішної роботи цього алгори\n",
    "1.тму?\n",
    "Граф - це абстрактна математична структура, що складається з вершин та ребер, які з'єднують ці вершини. У теорії графів графи використовуються для моделювання взаємозв'язків між об'єктами. \r\n",
    "\r\n",
    "Приклади реальних ситуацій, де можна застосовувати графи: \r\n",
    "\r\n",
    "Соціальні мережі: кожен користувач може бути представлений як вершина, а зв'язки між користувачами - як ребра. \r\n",
    "\r\n",
    "Дорожні мережі: вершини можуть відповідати перехрестям, а ребра - дорогам або автомобільним маршрутам. \r\n",
    "\r\n",
    "Мережі комп'ютерів: вершини представляють комп'ютери, а ребра - з'єднання між комп'ютерами. \r\n",
    "\r\n",
    "Інтернет: вершини можуть бути веб-сторінками, а ребра - гіперпосилання між2. сторінками. \r\n",
    "\r\n",
    "Головні види графів: \r\n",
    "\r\n",
    "Напрямлені (орієнтовані) графи: у таких графах ребра мають напрямок, тобто вони вказують з однієї вершини на іншу. \r\n",
    "\r\n",
    "Ненапрямлені графи: у таких графах ребра не мають напрямку, тобто вони просто з'єднують дві вершини без ви3.значення напрямку. \r\n",
    "\r\n",
    "Структури даних для подання графів у пам'яті комп'ютера: \r\n",
    "\r\n",
    "Список суміжності (Adjacency List): для кожної вершини зберігається список суміжних вершин. \r\n",
    "\r\n",
    "Матриця суміжності (Adjacency Matrix): квадратна матриця, де елемент (i, j) дорівнює 1, якщо існує ребро між вершинами i та 4.j, і 0 в іншому випадку. \r\n",
    "\r\n",
    "Алгоритм BFS (пошук в ширину) на графах: \r\n",
    "\r\n",
    "Алгоритм BFS використовує чергу для зберігання вершин, які ще не були відвідані. Починаючи з початкової вершини, він відвідує всі суміжні з нею вершини, потім всі суміжні вершини цих вершин і так далі. Цей алгоритм корисний для пошуку найкоротшого шляху у ненапрямленому або орієнтованому графі, де вс5.і ребра мають однакову вагу. \r\n",
    "\r\n",
    "Алгоритм DFS (пошук в глибину) на графах: \r\n",
    "\r\n",
    "Алгоритм DFS також використовує рекурсію або стек для відвідування вершин. Він спускається глибше в граф, поступово відвідуючи всі суміжні вершини, поки не дійде до кінця гілки, після чого повертається і переходить до наступної невідвіданої вершини. DFS корисний для пошуку шляхів у графі, перевірки 6.наявності циклів та інших задач. \r\n",
    "\r\n",
    "Алгоритм Дейкстри для пошуку найкоротшого шляху в графі: \r\n",
    "\r\n",
    "Алгоритм Дейкстри призначений для знаходження найкоротшого шляху в графі з невід'ємними вагами ребер. Успішно працює тільки у випадку, коли всі ваги додатні або нульові. Основна умова для його успішної роботи - відсутність від'ємних ваг або циклів в графі. \r\n",
    "\r\n",
    " "
   ]
  },
  {
   "cell_type": "code",
   "execution_count": null,
   "id": "07193e14-bb8c-4b38-9fc7-5e0eebc02f0d",
   "metadata": {},
   "outputs": [],
   "source": []
  }
 ],
 "metadata": {
  "kernelspec": {
   "display_name": "Python 3 (ipykernel)",
   "language": "python",
   "name": "python3"
  },
  "language_info": {
   "codemirror_mode": {
    "name": "ipython",
    "version": 3
   },
   "file_extension": ".py",
   "mimetype": "text/x-python",
   "name": "python",
   "nbconvert_exporter": "python",
   "pygments_lexer": "ipython3",
   "version": "3.11.7"
  }
 },
 "nbformat": 4,
 "nbformat_minor": 5
}
