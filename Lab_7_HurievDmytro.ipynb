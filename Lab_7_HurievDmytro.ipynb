{
 "cells": [
  {
   "cell_type": "code",
   "execution_count": 2,
   "id": "e22ef013-7fb8-463d-8038-a4f89766840f",
   "metadata": {},
   "outputs": [
    {
     "name": "stdout",
     "output_type": "stream",
     "text": [
      "Згенерована купа з масиву: [3, 7, 1]\n"
     ]
    }
   ],
   "source": [
    "import random\n",
    "\n",
    "def generate_heap(arr):\n",
    "    if not arr:\n",
    "        return \"Масив порожній, немає елементів для формування купи\"\n",
    "    \n",
    "    # Оберемо випадковий індекс елемента в масиві\n",
    "    random_index = random.randint(0, len(arr) - 1)\n",
    "    \n",
    "    # Виберемо цей елемент та всі елементи, які знаходяться в масиві до нього\n",
    "    heap = arr[:random_index + 1]\n",
    "    \n",
    "    # Виведемо сформовану купу\n",
    "    return heap\n",
    "\n",
    "# Приклад використання\n",
    "random_array = [3, 7, 1, 4, 6, 9, 2, 8, 5]\n",
    "heap = generate_heap(random_array)\n",
    "print(\"Згенерована купа з масиву:\", heap)\n"
   ]
  },
  {
   "cell_type": "code",
   "execution_count": 3,
   "id": "aebb56be-b53c-41d2-bfab-c415ef95e1d3",
   "metadata": {},
   "outputs": [
    {
     "name": "stdout",
     "output_type": "stream",
     "text": [
      "Згенерована купа з масиву: [8, 3]\n"
     ]
    }
   ],
   "source": [
    "import random\n",
    "\n",
    "def heapify_up(heap, index):\n",
    "    parent_index = (index - 1) // 2\n",
    "    while index > 0 and heap[index] > heap[parent_index]:\n",
    "        heap[index], heap[parent_index] = heap[parent_index], heap[index]\n",
    "        index = parent_index\n",
    "        parent_index = (index - 1) // 2\n",
    "\n",
    "def generate_heap(arr):\n",
    "    if not arr:\n",
    "        return \"Масив порожній, немає елементів для формування купи\"\n",
    "    \n",
    "    random_index = random.randint(0, len(arr) - 1)\n",
    "    heap = arr[:random_index + 1]\n",
    "\n",
    "    # Додамо елемент, який дорівнює вашому порядковому номеру, до купи\n",
    "    my_number = 8  # ваш номер\n",
    "    heap.append(my_number)\n",
    "    heapify_up(heap, len(heap) - 1)\n",
    "    \n",
    "    return heap\n",
    "\n",
    "# Приклад використання\n",
    "random_array = [3, 7, 1, 4, 6, 9, 2, 8, 5]\n",
    "heap = generate_heap(random_array)\n",
    "print(\"Згенерована купа з масиву:\", heap)\n"
   ]
  },
  {
   "cell_type": "code",
   "execution_count": 4,
   "id": "3617c6a4-f85d-4572-8d1a-b6f5267b1358",
   "metadata": {},
   "outputs": [
    {
     "name": "stdout",
     "output_type": "stream",
     "text": [
      "Згенерована купа з масиву: [3, 7, 1, 8]\n",
      "Вилучений максимальний елемент: 3\n",
      "Купа після вилучення максимального елемента: [8, 7, 1]\n"
     ]
    }
   ],
   "source": [
    "import random\n",
    "\n",
    "def heapify_down(heap, index):\n",
    "    left_child_index = 2 * index + 1\n",
    "    right_child_index = 2 * index + 2\n",
    "    largest = index\n",
    "    \n",
    "    if left_child_index < len(heap) and heap[left_child_index] > heap[largest]:\n",
    "        largest = left_child_index\n",
    "        \n",
    "    if right_child_index < len(heap) and heap[right_child_index] > heap[largest]:\n",
    "        largest = right_child_index\n",
    "        \n",
    "    if largest != index:\n",
    "        heap[index], heap[largest] = heap[largest], heap[index]\n",
    "        heapify_down(heap, largest)\n",
    "\n",
    "def extract_max(heap):\n",
    "    if len(heap) == 0:\n",
    "        return \"Купа порожня, немає елементів для вилучення\"\n",
    "    \n",
    "    max_element = heap[0]\n",
    "    heap[0] = heap[-1]\n",
    "    del heap[-1]\n",
    "    heapify_down(heap, 0)\n",
    "    \n",
    "    return max_element\n",
    "\n",
    "def generate_heap(arr):\n",
    "    if not arr:\n",
    "        return \"Масив порожній, немає елементів для формування купи\"\n",
    "    \n",
    "    random_index = random.randint(0, len(arr) - 1)\n",
    "    heap = arr[:random_index + 1]\n",
    "\n",
    "    my_number = 8  # ваш номер\n",
    "    heap.append(my_number)\n",
    "    heapify_down(heap, len(heap) - 1)  # Відновлення властивостей купи після додавання нового елемента\n",
    "    \n",
    "    return heap\n",
    "\n",
    "# Приклад використання\n",
    "random_array = [3, 7, 1, 4, 6, 9, 2, 8, 5]\n",
    "heap = generate_heap(random_array)\n",
    "print(\"Згенерована купа з масиву:\", heap)\n",
    "\n",
    "max_element = extract_max(heap)\n",
    "print(\"Вилучений максимальний елемент:\", max_element)\n",
    "print(\"Купа після вилучення максимального елемента:\", heap)\n"
   ]
  },
  {
   "cell_type": "markdown",
   "id": "54db5434-d0a6-4c40-ac87-8960a24fa521",
   "metadata": {},
   "source": [
    "Контрольні запитання\n",
    "Асимптотична складність операцій в купі (наприклад, бінарній купі) зазвичай вимірюється в термінах числа вузлів в купі. Припустимо, що купа має висоту h, де h - це кількість рівнів в купі.\r\n",
    "1.\r\n",
    "Пошук (search):\r\n",
    "У середньому і найгіршому випадках час пошуку в купі становить O(h). Оскільки купа зазвичай є повним або майже повним бінарним деревом, висота h буде логарифмічною по величині кількості елементів у купі (n), тобто O(log n2.).\r\n",
    "Вставка (insert):\r\n",
    "У середньому і найгіршому випадках час вставки в купу також становить O(h), що дорівнює O(log n). Вставка передбачає додавання нового елемента в купу і можливе переставлення елементів, щоб відновити властивості к3.упи.\r\n",
    "Видалення максимального елемента (delete):\r\n",
    "При видаленні максимального елемента (який зазвичай знаходиться у вершині купи), час видалення також становить O(h), що дорівнює O(log n). Після видалення максимального елемента необхідно переставити інші елементи, щоб зберегти властивості купи.\r\n",
    "Отже, в середньому і в найгіршому випадках асимптотична складність для пошуку, вставки та видалення в купі (зокрема, в бінарній купі) складає O(log n), де n - кількість елементів у купі."
   ]
  },
  {
   "cell_type": "markdown",
   "id": "cd520f80-2aad-45b4-8e4a-cf174a556e18",
   "metadata": {},
   "source": [
    "Відмінності між бінарним деревом і бінарним деревом пошуку полягають в основному в тому, як вони використовуються і які властивості вони забезпечують.\r\n",
    "\r\n",
    "Тепер щодо відмінності між бінарним деревом і бінарною купою:1.\r\n",
    "\r\n",
    "Бінарне дерево:\r\n",
    "Бінарне дерево - це загальна структура даних, яка може бути використана для різних цілей, включаючи пошук, зберігання даних, побудову виразів і т. д. Його основна властивість полягає в тому, що кожен вузол може мати не більше двох ді2.тей.\r\n",
    "Бінарна купа:\r\n",
    "Бінарна купа - це спеціальний вид бінарного дерева, який має додаткові властивості порівняно з загальним бінарним деревом. У бінарній купі кожен батьківський вузол має значення, яке не менше (або не більше, в залежності від типу купи) значень його дітей. Ця властивість називається властивістю купи. Бінарні купи часто використовуються для реалізації пріоритетних черг, а також для ефективного виконання операцій видалення максимального (або мінімального) ел\n",
    "\n",
    "емента.\r\n",
    "Отже, основна відмінність між бінарним деревом і бінарною купою полягає у їх властивостях та використанні: бінарні дерева можуть бути використані для різних завдань, тоді як бінарні купи мають спеціальні властивості, які роблять їх корисними для конкретних випадків використання, таких як пріоритетні черги"
   ]
  }
 ],
 "metadata": {
  "kernelspec": {
   "display_name": "Python 3 (ipykernel)",
   "language": "python",
   "name": "python3"
  },
  "language_info": {
   "codemirror_mode": {
    "name": "ipython",
    "version": 3
   },
   "file_extension": ".py",
   "mimetype": "text/x-python",
   "name": "python",
   "nbconvert_exporter": "python",
   "pygments_lexer": "ipython3",
   "version": "3.11.7"
  }
 },
 "nbformat": 4,
 "nbformat_minor": 5
}
