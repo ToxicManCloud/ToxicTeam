{
 "cells": [
  {
   "cell_type": "markdown",
   "id": "fc139827-cb4c-48e6-9d19-bf015bd06b5f",
   "metadata": {},
   "source": [
    "![](picture/LABA2.2.jpg)"
   ]
  },
  {
   "cell_type": "markdown",
   "id": "ece1e63b-2cb5-464e-964c-2a75826e8287",
   "metadata": {},
   "source": [
    "![](picture/LABA2.1.jpg)"
   ]
  },
  {
   "cell_type": "markdown",
   "id": "cd148589-0a4f-4207-a2d7-20a458f63db9",
   "metadata": {},
   "source": [
    "![](picture/LABA2.3.jpg)"
   ]
  },
  {
   "cell_type": "markdown",
   "id": "5f099479-a275-4165-bde7-2b62ad1a977d",
   "metadata": {},
   "source": [
    "\r\n",
    "1.\r\n",
    "pip - це система керування пакетами для Python, яка дозволяє встановлювати та управляти пакетами сторонніх розробників.\r\n",
    "conda - це також система керування пакетами, але вона спеціалізується на управлінні пакетами Python та іншими мовами програмування, такими як R та Julia. Крім того, conda також може керувати бібліотеками залежностей та середовищами виконанн\n",
    "2.я.\r\n",
    "Виконання пунктів 1-3 індивідуального завдання за допомогою Virtualnv:\r\n",
    "\r\n",
    "Спочатку встановіть virtualenv, якщо він ще не встановлений, виконавши команду pip install virtualenv.\r\n",
    "Створіть нове середовище virtualenv за допомогою команди virtualenv env_name.\r\n",
    "Активуйте нове середовище командою source env_name/bin/activate (для Unix) або .\\env_name\\Scripts\\activate (для Windows).\r\n",
    "Встановіть необхідні пакети за допомогою pip install package_name.\r\n",
    "Виконайте пункти 1-3 індивідуального \n",
    "3.завдання.\r\n",
    "Сортування масиву методом бульбашки на Python:\r\n",
    "\r\n",
    "python\r\n",
    "Copy code\r\n",
    "def bubble_sort(arr):\r\n",
    "    n = len(arr)\r\n",
    "    for i in range(n):\r\n",
    "        for j in range(0, n-i-1):\r\n",
    "            if arr[j] > arr[j+1]:\r\n",
    "                arr[j], arr[j+1] = arr[j+1], arв4,аний масив:\", sorted_arr)\r\n",
    "Компіляція вхідного документа Jupyter Notebook без використання інтерфейсу командного рядка:\r\n",
    "Відкрийте Jupyter Notebook у веб-браузері.\r\n",
    "Знайдіть вхідний документ, який ви хочете скомпілювати.\r\n",
    "У верхньому меню оберіть \"File\" (Файл) -> \"Download as\" (Завантажити як) -> \"Python (.py)\" (Python-файл).\r\n",
    "Ви збережете ваш Jupyter Notebook у форматі Python, який можна використовувати для компіляції за допомогою командного рядка або будь-якої іншої IDE."
   ]
  },
  {
   "cell_type": "code",
   "execution_count": null,
   "id": "50d2dcfa-e407-4800-8b5d-53edec475bd1",
   "metadata": {},
   "outputs": [],
   "source": []
  }
 ],
 "metadata": {
  "kernelspec": {
   "display_name": "Python 3 (ipykernel)",
   "language": "python",
   "name": "python3"
  },
  "language_info": {
   "codemirror_mode": {
    "name": "ipython",
    "version": 3
   },
   "file_extension": ".py",
   "mimetype": "text/x-python",
   "name": "python",
   "nbconvert_exporter": "python",
   "pygments_lexer": "ipython3",
   "version": "3.11.7"
  }
 },
 "nbformat": 4,
 "nbformat_minor": 5
}
